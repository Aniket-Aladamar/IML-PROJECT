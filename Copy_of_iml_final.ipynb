{
  "cells": [
    {
      "cell_type": "code",
      "execution_count": null,
      "metadata": {
        "id": "EFaksQeRKUFe"
      },
      "outputs": [],
      "source": [
        "import numpy as np\n",
        "import pandas as pd\n",
        "import tensorflow as tf\n",
        "import matplotlib.pyplot as plt"
      ]
    },
    {
      "cell_type": "code",
      "execution_count": null,
      "metadata": {
        "id": "UDnsqP6EKlDA"
      },
      "outputs": [],
      "source": [
        "#!apt-get install keras.layers.core"
      ]
    },
    {
      "cell_type": "code",
      "execution_count": null,
      "metadata": {
        "id": "eU0aiwS1Kar8"
      },
      "outputs": [],
      "source": [
        "import keras\n",
        "from keras.datasets import cifar10\n",
        "import matplotlib.pyplot as plt\n",
        "from keras.models import Sequential\n",
        "from keras.layers import Dense, Conv2D, MaxPooling2D, Dropout, Flatten, GlobalAveragePooling2D,BatchNormalization,Activation\n",
        "from keras.models import load_model\n",
        "from keras.callbacks import Callback\n",
        "from keras.preprocessing.image import ImageDataGenerator\n",
        "from keras import optimizers\n",
        "from keras.layers import Lambda\n",
        "from keras import backend as K\n",
        "from keras import regularizers\n",
        "from keras.callbacks import ModelCheckpoint\n",
        "from keras.callbacks import Callback\n",
        "from sklearn import preprocessing\n"
      ]
    },
    {
      "cell_type": "code",
      "execution_count": null,
      "metadata": {
        "id": "CjZZdKSTKfoP"
      },
      "outputs": [],
      "source": [
        "from keras.layers import Dense, Conv2D, BatchNormalization, Activation\n",
        "from keras.layers import AveragePooling2D, Input, Flatten\n",
        "from keras.optimizers import Adam\n",
        "from keras.callbacks import ModelCheckpoint, LearningRateScheduler\n",
        "from keras.callbacks import ReduceLROnPlateau\n",
        "from keras.preprocessing.image import ImageDataGenerator\n",
        "from keras.regularizers import l2\n",
        "from keras import backend as K\n",
        "from keras.models import Model\n",
        "from keras.datasets import cifar10\n",
        "import numpy as np\n",
        "import os"
      ]
    },
    {
      "cell_type": "code",
      "execution_count": null,
      "metadata": {
        "id": "3bBmN3DiL29g"
      },
      "outputs": [],
      "source": [
        "#!pip install kerassurgeon"
      ]
    },
    {
      "cell_type": "code",
      "execution_count": null,
      "metadata": {
        "id": "e1h-YuiAL5fS"
      },
      "outputs": [],
      "source": [
        "from kerassurgeon import identify\n",
        "from kerassurgeon.operations import delete_channels,delete_layer\n",
        "from kerassurgeon import Surgeon"
      ]
    },
    {
      "cell_type": "code",
      "execution_count": null,
      "metadata": {
        "id": "89BDZCY_L9zn"
      },
      "outputs": [],
      "source": [
        "def my_get_all_conv_layers(model , first_time):\n",
        "\n",
        "    '''\n",
        "    Arguments:\n",
        "        model -> your model\n",
        "        first_time -> type boolean\n",
        "            first_time = True => model is not pruned\n",
        "            first_time = False => model is pruned\n",
        "ValueError: Dimensions must be equal, but are 30 and 31 for 'add_65_1/add' (op: 'AddV2') with input shapes: [?,16,16,30], [?,16,16,31].\n",
        "    Return:\n",
        "        List of Indices containing convolution layers\n",
        "    '''\n",
        "\n",
        "    all_conv_layers = list()\n",
        "    for i,each_layer in enumerate(model.layers):\n",
        "        if (each_layer.name[0:6] == 'conv2d'):\n",
        "            all_conv_layers.append(i)\n",
        "    return all_conv_layers if (first_time==True) else all_conv_layers[1:]\n",
        "\n"
      ]
    },
    {
      "cell_type": "code",
      "execution_count": null,
      "metadata": {
        "id": "oRT-xCVIMWcO"
      },
      "outputs": [],
      "source": [
        "def my_get_all_dense_layers(model):\n",
        "    '''\n",
        "    Arguments:\n",
        "        model -> your model\n",
        "    Return:\n",
        "        List of Indices containing fully connected layers\n",
        "    '''\n",
        "    all_dense_layers = list()\n",
        "    for i,each_layer in enumerate(model.layers):\n",
        "        if (each_layer.name[0:5] == 'dense'):\n",
        "            all_dense_layers.append(i)\n",
        "    return all_dense_layers"
      ]
    },
    {
      "cell_type": "code",
      "execution_count": null,
      "metadata": {
        "id": "mvzaCaMhMZrd"
      },
      "outputs": [],
      "source": [
        "def count_conv_params_flops(conv_layer):\n",
        "    # out shape is  n_cells_dim1 * (n_cells_dim2 * n_cells_dim3)\n",
        "    '''\n",
        "    Arguments:\n",
        "        conv layer\n",
        "    Return:\n",
        "        Number of Parameters, Number of Flops\n",
        "    '''\n",
        "\n",
        "\n",
        "    out_shape = conv_layer.output_shape\n",
        "\n",
        "    n_cells_total = np.prod(out_shape[1:-1])\n",
        "\n",
        "    n_conv_params_total = conv_layer.count_params()\n",
        "    # print(n_conv_params_total,len(conv_layer.get_weights()[0]),)\n",
        "    conv_flops =  (n_conv_params_total * n_cells_total - len(conv_layer.get_weights()[1]) *n_cells_total)\n",
        "\n",
        "\n",
        "\n",
        "    return n_conv_params_total, conv_flops\n"
      ]
    },
    {
      "cell_type": "code",
      "execution_count": null,
      "metadata": {
        "id": "y0wB1YhcMfmw"
      },
      "outputs": [],
      "source": [
        "def count_dense_params_flops(dense_layer):\n",
        "    # out shape is  n_cells_dim1 * (n_cells_dim2 * n_cells_dim3)\n",
        "    '''\n",
        "    Arguments:\n",
        "      dense layer\n",
        "    Return:\n",
        "        Number of Parameters, Number of Flops\n",
        "    '''\n",
        "\n",
        "    out_shape = dense_layer.output_shape\n",
        "    n_cells_total = np.prod(out_shape[1:-1])\n",
        "\n",
        "    n_dense_params_total = dense_layer.count_params()\n",
        "\n",
        "    dense_flops =  (n_dense_params_total - len(dense_layer.get_weights()[1]) * n_cells_total)\n",
        "\n",
        "\n",
        "    return n_dense_params_total, dense_flops\n"
      ]
    },
    {
      "cell_type": "code",
      "execution_count": null,
      "metadata": {
        "id": "d9SuVAoHMfzl"
      },
      "outputs": [],
      "source": [
        "def count_model_params_flops(model,first_time):\n",
        "\n",
        "    '''\n",
        "    Arguments:\n",
        "        model -> your model\n",
        "        first_time -> boolean variable\n",
        "        first_time = True => model is not pruned\n",
        "        first_time = False => model is pruned\n",
        "    Return:\n",
        "        Number of parmaters, Number of Flops\n",
        "    '''\n",
        "\n",
        "    total_params = 0\n",
        "    total_flops = 0\n",
        "    # if first_time == True:\n",
        "    #     model_layers = model.layers[:-3]\n",
        "    # else:\n",
        "    #     model_layers = model.layers[1:-3]\n",
        "    model_layers = model.layers\n",
        "    for index,layer in enumerate(model_layers):\n",
        "        if any(conv_type in str(type(layer)) for conv_type in ['Conv1D', 'Conv2D', 'Conv3D']):\n",
        "\n",
        "            params, flops = count_conv_params_flops(layer)\n",
        "            print(index,layer.name,params,flops)\n",
        "            total_params += params\n",
        "            total_flops += flops\n",
        "        elif 'Dense' in str(type(layer)):\n",
        "\n",
        "            params, flops = count_dense_params_flops(layer)\n",
        "            print(index,layer.name,params,flops)\n",
        "            total_params += params\n",
        "            total_flops += flops\n",
        "    return total_params, int(total_flops)\n"
      ]
    },
    {
      "cell_type": "code",
      "execution_count": null,
      "metadata": {
        "id": "kD5KZOx_Mm9z"
      },
      "outputs": [],
      "source": [
        "def my_get_weights_in_conv_layers(model,first_time):\n",
        "\n",
        "    '''\n",
        "    Arguments:\n",
        "        model -> your model\n",
        "        first_time -> boolean variable\n",
        "            first_time = True => model is not pruned\n",
        "            first_time = False => model is pruned\n",
        "    Return:\n",
        "        List containing weight tensors of each layer\n",
        "    '''\n",
        "\n",
        "\n",
        "\n",
        "    weights = list()\n",
        "    all_conv_layers = my_get_all_conv_layers(model,first_time)\n",
        "    layer_wise_weights = list()\n",
        "    for i in all_conv_layers:\n",
        "          weights.append(model.layers[i].get_weights()[0])\n",
        "    return weights"
      ]
    },
    {
      "cell_type": "code",
      "execution_count": null,
      "metadata": {
        "id": "iO2eRexdWet1"
      },
      "outputs": [],
      "source": [
        "def my_get_l1_norms_filters_per_epoch(weight_list_per_epoch):\n",
        "\n",
        "    '''\n",
        "    Arguments:\n",
        "        List\n",
        "    Return:\n",
        "        Number of parmaters, Number of Flops\n",
        "    '''\n",
        "\n",
        "    # weight_list_per_epoch = my_get_weights_in_conv_layers(model,first_time)\n",
        "    l1_norms_filters_per_epoch = list()\n",
        "\n",
        "\n",
        "    for index in range(len(weight_list_per_epoch)):\n",
        "\n",
        "        epochs = np.array(weight_list_per_epoch[index]).shape[0]\n",
        "        h , w , d = np.array(weight_list_per_epoch[index]).shape[1], np.array(weight_list_per_epoch[index]).shape[2] , np.array(weight_list_per_epoch[index]).shape[3]\n",
        "\n",
        "\n",
        "        l1_norms_filters_per_epoch.append(np.sum(np.abs(np.array(weight_list_per_epoch[index])).reshape(epochs,h*w*d,-1),axis=1))\n",
        "    return l1_norms_filters_per_epoch\n"
      ]
    },
    {
      "cell_type": "code",
      "execution_count": null,
      "metadata": {
        "id": "4SsYgZf5Wg8t"
      },
      "outputs": [],
      "source": [
        "def my_in_conv_layers_get_sum_of_l1_norms_sorted_indices(weight_list_per_epoch):\n",
        "    '''\n",
        "        Arguments:\n",
        "            weight List\n",
        "        Return:\n",
        "\n",
        "    '''\n",
        "    layer_wise_filter_sorted_indices = list()\n",
        "    layer_wise_filter_sorted_values = list()\n",
        "    l1_norms_filters_per_epoch = my_get_l1_norms_filters_per_epoch(weight_list_per_epoch)\n",
        "    sum_l1_norms = list()\n",
        "\n",
        "    for i in l1_norms_filters_per_epoch:\n",
        "        sum_l1_norms.append(np.sum(i,axis=0))\n",
        "\n",
        "    layer_wise_filter_sorted_indices = list()\n",
        "\n",
        "    for i in sum_l1_norms:\n",
        "        a = pd.Series(i).sort_values().index\n",
        "        layer_wise_filter_sorted_indices.append(a.tolist())\n",
        "    return layer_wise_filter_sorted_indices\n"
      ]
    },
    {
      "cell_type": "code",
      "execution_count": null,
      "metadata": {
        "id": "L1FCFhOcWjNg"
      },
      "outputs": [],
      "source": [
        "def my_get_percent_prune_filter_indices(layer_wise_filter_sorted_indices,percentage):\n",
        "\n",
        "    prune_filter_indices = list()\n",
        "    for i in range(len(layer_wise_filter_sorted_indices)):\n",
        "        prune_filter_indices.append(int(len(layer_wise_filter_sorted_indices[i]) * (percentage/100)))\n",
        "    return prune_filter_indices\n",
        "\n",
        "def my_get_distance_matrix(l1_norm_matrix):\n",
        "    distance_matrix = []\n",
        "    for i,v1 in enumerate(l1_norm_matrix):\n",
        "        distance_matrix.append([])\n",
        "        for v2 in l1_norm_matrix:\n",
        "            distance_matrix[i].append(np.sum(np.abs((v1-v2))))\n",
        "    return np.array(distance_matrix)\n",
        "\n",
        "def my_get_distance_matrix_list(l1_norm_matrix_list):\n",
        "    distance_matrix_list = []\n",
        "    for l1_norm_matrix in l1_norm_matrix_list:\n",
        "        distance_matrix_list.append(my_get_distance_matrix(l1_norm_matrix.T))\n",
        "    return distance_matrix_list\n"
      ]
    },
    {
      "cell_type": "code",
      "execution_count": null,
      "metadata": {
        "id": "JLg0fSsXWmKy"
      },
      "outputs": [],
      "source": [
        "def my_get_episodes(distance_matrix,percentage):\n",
        "    distance_matrix_flatten = pd.Series(distance_matrix.flatten())\n",
        "\n",
        "    distance_matrix_flatten = distance_matrix_flatten.sort_values().index.to_list()\n",
        "\n",
        "    episodes = list()\n",
        "    n = distance_matrix.shape[0]\n",
        "    for i in distance_matrix_flatten:\n",
        "        episodes.append((i//n,i%n))\n",
        "    k = int((n * percentage)/100)\n",
        "    li = list()\n",
        "    for i in range(2*k):\n",
        "        if i%2!=0:\n",
        "            li.append(episodes[n+i])\n",
        "    return li\n"
      ]
    },
    {
      "cell_type": "code",
      "execution_count": null,
      "metadata": {
        "id": "Nv_dq2xnWoTA"
      },
      "outputs": [],
      "source": [
        "def my_get_episodes_for_all_layers(distance_matrix_list,percentage):\n",
        "    all_episodes = list()\n",
        "    for matrix in distance_matrix_list:\n",
        "        all_episodes.append(my_get_episodes(matrix,percentage))\n",
        "    return all_episodes\n",
        "\n",
        "\n",
        "def my_get_filter_pruning_indices(episodes_for_all_layers,l1_norm_matrix_list):\n",
        "    filter_pruning_indices = list()\n",
        "    for layer_index,episode_layer in enumerate(episodes_for_all_layers):\n",
        "        a = set()\n",
        "        sum_l1_norms = np.sum(l1_norm_matrix_list[layer_index],axis=0,keepdims=True)\n",
        "\n",
        "        for episode in episode_layer:\n",
        "            ep1 = sum_l1_norms.T[episode[0]]\n",
        "            ep2 = sum_l1_norms.T[episode[1]]\n",
        "            if ep1 >= ep2:\n",
        "                a.add(episode[0])\n",
        "            else:\n",
        "                a.add(episode[1])\n",
        "            a.add(episode[0])\n",
        "        a = list(a)\n",
        "        filter_pruning_indices.append(a)\n",
        "    return filter_pruning_indices\n",
        "\n"
      ]
    },
    {
      "cell_type": "code",
      "execution_count": null,
      "metadata": {
        "id": "gb0vP_eNWqUY"
      },
      "outputs": [],
      "source": [
        "\n",
        "def my_delete_filters(model,weight_list_per_epoch,percentage,first_time,number):\n",
        "    l1_norms = my_get_l1_norms_filters_per_epoch(weight_list_per_epoch)\n",
        "    distance_matrix_list = my_get_distance_matrix_list(l1_norms)\n",
        "    episodes_for_all_layers = my_get_episodes_for_all_layers(distance_matrix_list,percentage)\n",
        "    filter_pruning_indices = my_get_filter_pruning_indices(episodes_for_all_layers,l1_norms)\n",
        "    all_conv_layers = my_get_all_conv_layers(model,first_time)\n",
        "    surgeon = Surgeon(model)\n",
        "    for index,value in enumerate(all_conv_layers):\n",
        "        # print(index,value,filter_pruning_indices[index])\n",
        "        # a = number\n",
        "        print(len(filter_pruning_indices[index][:a]))\n",
        "        # while(len(filter_pruning_indices[index][:a]) != a):\n",
        "        #     a+=1\n",
        "\n",
        "        surgeon.add_job('delete_channels',model.layers[value],channels = filter_pruning_indices[index][:number])\n",
        "    model_new = surgeon.operate()\n",
        "\n",
        "\n",
        "    return model_new\n"
      ]
    },
    {
      "cell_type": "code",
      "execution_count": null,
      "metadata": {
        "id": "5PfR4fiaWuJt"
      },
      "outputs": [],
      "source": [
        "\n",
        "def my_delete_from_block_1(model,weight_list_per_epoch):\n",
        "  l1_norms = my_get_l1_norms_filters_per_epoch(weight_list_per_epoch)\n",
        "  distance_matrix_list = my_get_distance_matrix_list(l1_norms)\n",
        "  episodes_for_all_layers = my_get_episodes_for_all_layers(distance_matrix_list,90)\n",
        "  filter_pruning_indices = my_get_filter_pruning_indices(episodes_for_all_layers,l1_norms)[:19]\n",
        "  all_conv_layers = my_get_all_conv_layers(model,True)[:19]\n",
        "  surgeon = Surgeon(model)\n",
        "  for index,value in enumerate(all_conv_layers):\n",
        "      print(index,value,filter_pruning_indices[index])\n",
        "      # if len(filter_pruning_indices[index]) > 12  :\n",
        "      surgeon.add_job('delete_channels',model.layers[value],channels = filter_pruning_indices[index][:2])\n",
        "  model_new = surgeon.operate()\n",
        "  return model_new\n",
        "\n"
      ]
    },
    {
      "cell_type": "code",
      "execution_count": null,
      "metadata": {
        "id": "FrU3r7egWwy1"
      },
      "outputs": [],
      "source": [
        "def my_delete_from_block_2(model,weight_list_per_epoch):\n",
        "  l1_norms = my_get_l1_norms_filters_per_epoch(weight_list_per_epoch)\n",
        "  distance_matrix_list = my_get_distance_matrix_list(l1_norms)\n",
        "  episodes_for_all_layers = my_get_episodes_for_all_layers(distance_matrix_list,90)\n",
        "  filter_pruning_indices = my_get_filter_pruning_indices(episodes_for_all_layers,l1_norms)[19:38]\n",
        "  all_conv_layers = my_get_all_conv_layers(model,True)[19:38]\n",
        "  surgeon = Surgeon(model)\n",
        "  for index,value in enumerate(all_conv_layers):\n",
        "      print(index,value,filter_pruning_indices[index])\n",
        "      # if len(filter_pruning_indices[index]) > 12  :\n",
        "      surgeon.add_job('delete_channels',model.layers[value],channels = filter_pruning_indices[index][:4])\n",
        "  model_new = surgeon.operate()\n",
        "  return model_new\n",
        "\n"
      ]
    },
    {
      "cell_type": "code",
      "execution_count": null,
      "metadata": {
        "id": "mm5icsQIWy5F"
      },
      "outputs": [],
      "source": [
        "\n",
        "def my_delete_from_block_3(model,weight_list_per_epoch):\n",
        "  l1_norms = my_get_l1_norms_filters_per_epoch(weight_list_per_epoch)\n",
        "  distance_matrix_list = my_get_distance_matrix_list(l1_norms)\n",
        "  episodes_for_all_layers = my_get_episodes_for_all_layers(distance_matrix_list,90)\n",
        "  filter_pruning_indices = my_get_filter_pruning_indices(episodes_for_all_layers,l1_norms)[38:]\n",
        "  all_conv_layers = my_get_all_conv_layers(model,True)[38:]\n",
        "  surgeon = Surgeon(model)\n",
        "  for index,value in enumerate(all_conv_layers):\n",
        "      print(index,value,filter_pruning_indices[index])\n",
        "      surgeon.add_job('delete_channels',model.layers[value],channels = filter_pruning_indices[index][:8])\n",
        "  model_new = surgeon.operate()\n",
        "  return model_new\n"
      ]
    },
    {
      "cell_type": "code",
      "execution_count": null,
      "metadata": {
        "id": "_X0LSWCcW11v"
      },
      "outputs": [],
      "source": [
        "class Get_Weights(Callback):\n",
        "    def __init__(self,first_time):\n",
        "        super(Get_Weights, self).__init__()\n",
        "        self.weight_list = [] #Using a list of list to store weight tensors per epoch\n",
        "        self.first_time = first_time\n",
        "    def on_epoch_end(self,epoch,logs=None):\n",
        "        if epoch == 0:\n",
        "            all_conv_layers = my_get_all_conv_layers(self.model,self.first_time)\n",
        "            for i in range(len(all_conv_layers)):\n",
        "                self.weight_list.append([]) # appending empty lists for later appending weight tensors\n",
        "\n",
        "        for index,each_weight in enumerate(my_get_weights_in_conv_layers(self.model,self.first_time)):\n",
        "                self.weight_list[index].append(each_weight)\n"
      ]
    },
    {
      "cell_type": "code",
      "execution_count": null,
      "metadata": {
        "colab": {
          "base_uri": "https://localhost:8080/"
        },
        "id": "WPYm4e5_W5n4",
        "outputId": "a080d5cd-62ab-47b5-8226-c96af3797971"
      },
      "outputs": [
        {
          "output_type": "stream",
          "name": "stdout",
          "text": [
            "Downloading data from https://www.cs.toronto.edu/~kriz/cifar-10-python.tar.gz\n",
            "170498071/170498071 [==============================] - 4s 0us/step\n",
            "x_train shape: (50000, 32, 32, 3)\n",
            "50000 train samples\n",
            "10000 test samples\n",
            "y_train shape: (50000, 1)\n"
          ]
        }
      ],
      "source": [
        "batch_size = 512  # orig paper trained all networks with batch_size=128\n",
        "epochs = 10\n",
        "data_augmentation = True\n",
        "num_classes = 10\n",
        "\n",
        "# Subtracting pixel mean improves accuracy\n",
        "subtract_pixel_mean = True\n",
        "n = 3\n",
        "\n",
        "# Model version\n",
        "# Orig paper: version = 1 (ResNet v1), Improved ResNet: version = 2 (ResNet v2)\n",
        "version = 1\n",
        "\n",
        "# Computed depth from supplied model parameter n\n",
        "if version == 1:\n",
        "    depth = n * 6 + 2\n",
        "elif version == 2:\n",
        "    depth = n * 9 + 2\n",
        "\n",
        "# Model name, depth and version\n",
        "model_type = 'ResNet%dv%d' % (depth, version)\n",
        "\n",
        "# Load the CIFAR10 data.\n",
        "(x_train, y_train), (x_test, y_test) = cifar10.load_data()\n",
        "\n",
        "# Input image dimensions.\n",
        "input_shape = x_train.shape[1:]\n",
        "\n",
        "# Normalize data.\n",
        "x_train = x_train.astype('float32') / 255\n",
        "x_test = x_test.astype('float32') / 255\n",
        "\n",
        "# If subtract pixel mean is enabled\n",
        "if subtract_pixel_mean:\n",
        "    x_train_mean = np.mean(x_train, axis=0)\n",
        "    x_train -= x_train_mean\n",
        "    x_test -= x_train_mean\n",
        "\n",
        "print('x_train shape:', x_train.shape)\n",
        "print(x_train.shape[0], 'train samples')\n",
        "print(x_test.shape[0], 'test samples')\n",
        "print('y_train shape:', y_train.shape)\n"
      ]
    },
    {
      "cell_type": "code",
      "execution_count": null,
      "metadata": {
        "id": "ldLGQcyiXMSf"
      },
      "outputs": [],
      "source": [
        "# Convert class vectors to binary class matrices.\n",
        "y_train = keras.utils.to_categorical(y_train, num_classes)\n",
        "y_test = keras.utils.to_categorical(y_test, num_classes)"
      ]
    },
    {
      "cell_type": "code",
      "execution_count": null,
      "metadata": {
        "id": "cqz3mi06XXoa"
      },
      "outputs": [],
      "source": [
        "def lr_schedule(epoch):\n",
        "    \"\"\"Learning Rate Schedule\n",
        "\n",
        "    Learning rate is scheduled to be reduced after 80, 120, 160, 180 epochs.\n",
        "    Called automatically every epoch as part of callbacks during training.\n",
        "\n",
        "    # Arguments\n",
        "        epoch (int): The number of epochs\n",
        "\n",
        "    # Returns\n",
        "        lr (float32): learning rate\n",
        "    \"\"\"\n",
        "    lr = 1e-3\n",
        "    if epoch > 180:\n",
        "        lr *= 0.5e-3\n",
        "    elif epoch > 160:\n",
        "        lr *= 1e-3\n",
        "    elif epoch > 120:\n",
        "        lr *= 1e-2\n",
        "    elif epoch > 80:\n",
        "        lr *= 1e-1\n",
        "    print('Learning rate: ', lr)\n",
        "    return lr\n"
      ]
    },
    {
      "cell_type": "code",
      "execution_count": null,
      "metadata": {
        "id": "9PdmoQmeXbOB"
      },
      "outputs": [],
      "source": [
        "def resnet_layer(inputs,\n",
        "                 num_filters=16,\n",
        "                 kernel_size=3,\n",
        "                 strides=1,\n",
        "                 activation='relu',\n",
        "                 batch_normalization=True,\n",
        "                 conv_first=True):\n",
        "    \"\"\"2D Convolution-Batch Normalization-Activation stack builder\n",
        "\n",
        "    # Arguments\n",
        "        inputs (tensor): input tensor from input image or previous layer\n",
        "        num_filters (int): Conv2D number of filters\n",
        "        kernel_size (int): Conv2D square kernel dimensions\n",
        "        strides (int): Conv2D square stride dimensions\n",
        "        activation (string): activation name\n",
        "        batch_normalization (bool): whether to include batch normalization\n",
        "        conv_first (bool): conv-bn-activation (True) or\n",
        "            bn-activation-conv (False)\n",
        "\n",
        "    # Returns\n",
        "        x (tensor): tensor as input to the next layer\n",
        "    \"\"\"\n",
        "    conv = Conv2D(num_filters,\n",
        "                  kernel_size=kernel_size,\n",
        "                  strides=strides,\n",
        "                  padding='same',\n",
        "                  kernel_initializer='he_normal',\n",
        "                  kernel_regularizer=l2(1e-4))\n",
        "\n",
        "    x = inputs\n",
        "    if conv_first:\n",
        "        x = conv(x)\n",
        "        if batch_normalization:\n",
        "            x = BatchNormalization()(x)\n",
        "        if activation is not None:\n",
        "            x = Activation(activation)(x)\n",
        "    else:\n",
        "        if batch_normalization:\n",
        "            x = BatchNormalization()(x)\n",
        "        if activation is not None:\n",
        "            x = Activation(activation)(x)\n",
        "        x = conv(x)\n",
        "    return x"
      ]
    },
    {
      "cell_type": "code",
      "execution_count": null,
      "metadata": {
        "id": "AQCPDvl3XiIC"
      },
      "outputs": [],
      "source": [
        "def resnet_v1(input_shape, depth, num_classes=10):\n",
        "    \"\"\"ResNet Version 1 Model builder [a]\n",
        "\n",
        "    Stacks of 2 x (3 x 3) Conv2D-BN-ReLU\n",
        "    Last ReLU is after the shortcut connection.\n",
        "    At the beginning of each stage, the feature map size is halved (downsampled)\n",
        "    by a convolutional layer with strides=2, while the number of filters is\n",
        "    doubled. Within each stage, the layers have the same number filters and the\n",
        "    same number of filters.\n",
        "    Features maps sizes:\n",
        "    stage 0: 32x32, 16\n",
        "    stage 1: 16x16, 32\n",
        "    stage 2:  8x8,  64\n",
        "    The Number of parameters is approx the same as Table 6 of [a]:\n",
        "    ResNet20 0.27M\n",
        "    ResNet32 0.46M\n",
        "    ResNet44 0.66M\n",
        "    ResNet56 0.85M\n",
        "    ResNet110 1.7M\n",
        "\n",
        "    # Arguments\n",
        "        input_shape (tensor): shape of input image tensor\n",
        "        depth (int): number of core convolutional layers\n",
        "        num_classes (int): number of classes (CIFAR10 has 10)\n",
        "\n",
        "    # Returns\n",
        "        model (Model): Keras model instance\n",
        "    \"\"\"\n",
        "    if (depth - 2) % 6 != 0:\n",
        "        raise ValueError('depth should be 6n+2 (eg 20, 32, 44 in [a])')\n",
        "    # Start model definition.\n",
        "    num_filters = 16\n",
        "    num_res_blocks = int((depth - 2) / 6)\n",
        "\n",
        "    inputs = Input(shape=input_shape)\n",
        "    x = resnet_layer(inputs=inputs)\n",
        "    # Instantiate the stack of residual units\n",
        "    for stack in range(3):\n",
        "        for res_block in range(num_res_blocks):\n",
        "            strides = 1\n",
        "            if stack > 0 and res_block == 0:  # first layer but not first stack\n",
        "                strides = 2  # downsample\n",
        "            y = resnet_layer(inputs=x,\n",
        "                             num_filters=num_filters,\n",
        "                             strides=strides)\n",
        "            y = resnet_layer(inputs=y,\n",
        "                             num_filters=num_filters,\n",
        "                             activation=None)\n",
        "            if stack > 0 and res_block == 0:  # first layer but not first stack\n",
        "                # linear projection residual shortcut connection to match\n",
        "                # changed dims\n",
        "                x = resnet_layer(inputs=x,\n",
        "                                 num_filters=num_filters,\n",
        "                                 kernel_size=1,\n",
        "                                 strides=strides,\n",
        "                                 activation=None,\n",
        "                                 batch_normalization=False)\n",
        "            x = keras.layers.add([x, y])\n",
        "            x = Activation('relu')(x)\n",
        "        num_filters *= 2\n",
        "\n",
        "    # Add classifier on top.\n",
        "    # v1 does not use BN after last shortcut connection-ReLU\n",
        "    x = AveragePooling2D(pool_size=8)(x)\n",
        "    y = Flatten()(x)\n",
        "    outputs = Dense(num_classes,\n",
        "                    activation='softmax',\n",
        "                    kernel_initializer='he_normal')(y)\n",
        "\n",
        "    # Instantiate model.\n",
        "    model = Model(inputs=inputs, outputs=outputs)\n",
        "    return model"
      ]
    },
    {
      "cell_type": "code",
      "execution_count": null,
      "metadata": {
        "id": "-2fo6U1bXuih"
      },
      "outputs": [],
      "source": [
        "def resnet_v2(input_shape, depth, num_classes=10):\n",
        "    \"\"\"ResNet Version 2 Model builder [b]\n",
        "\n",
        "    Stacks of (1 x 1)-(3 x 3)-(1 x 1) BN-ReLU-Conv2D or also known as\n",
        "    bottleneck layer\n",
        "    First shortcut connection per layer is 1 x 1 Conv2D.\n",
        "    Second and onwards shortcut connection is identity.\n",
        "    At the beginning of each stage, the feature map size is halved (downsampled)\n",
        "    by a convolutional layer with strides=2, while the number of filter maps is\n",
        "    doubled. Within each stage, the layers have the same number filters and the\n",
        "    same filter map sizes.\n",
        "    Features maps sizes:\n",
        "    conv1  : 32x32,  16\n",
        "    stage 0: 32x32,  64\n",
        "    stage 1: 16x16, 128\n",
        "    stage 2:  8x8,  256\n",
        "\n",
        "    # Arguments\n",
        "        input_shape (tensor): shape of input image tensor\n",
        "        depth (int): number of core convolutional layers\n",
        "        num_classes (int): number of classes (CIFAR10 has 10)\n",
        "\n",
        "    # Returns\n",
        "        model (Model): Keras model instance\n",
        "    \"\"\"\n",
        "    if (depth - 2) % 9 != 0:\n",
        "        raise ValueError('depth should be 9n+2 (eg 56 or 110 in [b])')\n",
        "    # Start model definition.\n",
        "    num_filters_in = 16\n",
        "    num_res_blocks = int((depth - 2) / 9)\n",
        "\n",
        "    inputs = Input(shape=input_shape)\n",
        "    # v2 performs Conv2D with BN-ReLU on input before splitting into 2 paths\n",
        "    x = resnet_layer(inputs=inputs,\n",
        "                     num_filters=num_filters_in,\n",
        "                     conv_first=True)\n",
        "\n",
        "    # Instantiate the stack of residual units\n",
        "    for stage in range(3):\n",
        "        for res_block in range(num_res_blocks):\n",
        "            activation = 'relu'\n",
        "            batch_normalization = True\n",
        "            strides = 1\n",
        "            if stage == 0:\n",
        "                num_filters_out = num_filters_in * 4\n",
        "                if res_block == 0:  # first layer and first stage\n",
        "                    activation = None\n",
        "                    batch_normalization = False\n",
        "            else:\n",
        "                num_filters_out = num_filters_in * 2\n",
        "                if res_block == 0:  # first layer but not first stage\n",
        "                    strides = 2    # downsample\n",
        "\n",
        "            # bottleneck residual unit\n",
        "            y = resnet_layer(inputs=x,\n",
        "                             num_filters=num_filters_in,\n",
        "                             kernel_size=1,\n",
        "                             strides=strides,\n",
        "                             activation=activation,\n",
        "                             batch_normalization=batch_normalization,\n",
        "                             conv_first=False)\n",
        "            y = resnet_layer(inputs=y,\n",
        "                             num_filters=num_filters_in,\n",
        "                             conv_first=False)\n",
        "            y = resnet_layer(inputs=y,\n",
        "                             num_filters=num_filters_out,\n",
        "                             kernel_size=1,\n",
        "                             conv_first=False)\n",
        "            if res_block == 0:\n",
        "                # linear projection residual shortcut connection to match\n",
        "                # changed dims\n",
        "                x = resnet_layer(inputs=x,\n",
        "                                 num_filters=num_filters_out,\n",
        "                                 kernel_size=1,\n",
        "                                 strides=strides,\n",
        "                                 activation=None,\n",
        "                                 batch_normalization=False)\n",
        "            x = keras.layers.add([x, y])\n",
        "\n",
        "        num_filters_in = num_filters_out\n",
        "\n",
        "    # Add classifier on top.\n",
        "    # v2 has BN-ReLU before Pooling\n",
        "    x = BatchNormalization()(x)\n",
        "    x = Activation('relu')(x)\n",
        "    x = AveragePooling2D(pool_size=8)(x)\n",
        "    y = Flatten()(x)\n",
        "    outputs = Dense(num_classes,\n",
        "                    activation='softmax',\n",
        "                    kernel_initializer='he_normal')(y)\n",
        "\n",
        "    # Instantiate model.\n",
        "    model = Model(inputs=inputs, outputs=outputs)\n",
        "    return model\n"
      ]
    },
    {
      "cell_type": "code",
      "execution_count": null,
      "metadata": {
        "colab": {
          "base_uri": "https://localhost:8080/"
        },
        "id": "3vRQpFmMg9Ry",
        "outputId": "3caee7e2-407c-4cb4-9668-5e8a2b98293e"
      },
      "outputs": [
        {
          "output_type": "stream",
          "name": "stdout",
          "text": [
            "Learning rate:  0.001\n",
            "Using real-time data augmentation.\n"
          ]
        }
      ],
      "source": [
        "if version == 2:\n",
        "    model = resnet_v2(input_shape=input_shape, depth=depth)\n",
        "else:\n",
        "    model = resnet_v1(input_shape=input_shape, depth=depth)\n",
        "\n",
        "model.compile(loss='categorical_crossentropy',\n",
        "              optimizer=Adam(learning_rate=lr_schedule(0)),\n",
        "              metrics=['accuracy'])\n",
        "\n",
        "# model = load_model('./before_resnet.h5')\n",
        "# a = model.evaluate(x_test,y_test)\n",
        "# print(a)\n",
        "# model.compile(loss='categorical_crossentropy',\n",
        "#               optimizer=Adam(learning_rate=lr_schedule(0)),\n",
        "#               metrics=['accuracy'])\n",
        "\n",
        "\n",
        "#Prepare model model saving directory.\n",
        "save_dir = os.path.join(os.getcwd(), 'saved_models')\n",
        "model_name = 'cifar10_%s_model.{epoch:03d}.h5' % model_type\n",
        "if not os.path.isdir(save_dir):\n",
        "    os.makedirs(save_dir)\n",
        "filepath = os.path.join(save_dir, model_name)\n",
        "\n",
        "# Prepare callbacks for model saving and for learning rate adjustment.\n",
        "checkpoint = ModelCheckpoint(filepath=filepath,\n",
        "                             monitor='val_acc',\n",
        "                             verbose=1,\n",
        "                             save_best_only=True)\n",
        "\n",
        "lr_scheduler = LearningRateScheduler(lr_schedule)\n",
        "\n",
        "lr_reducer = ReduceLROnPlateau(factor=np.sqrt(0.1),\n",
        "                               cooldown=0,\n",
        "                               patience=5,\n",
        "                               min_lr=0.5e-6)\n",
        "gw = Get_Weights(True)\n",
        "callbacks = [checkpoint, lr_reducer, lr_scheduler,gw]\n",
        "\n",
        "# Run training, with or without data augmentation.\n",
        "\n",
        "print('Using real-time data augmentation.')\n",
        "# This will do preprocessing and realtime data augmentation:\n",
        "datagen = ImageDataGenerator(\n",
        "    # set input mean to 0 over the dataset\n",
        "    featurewise_center=False,\n",
        "    # set each sample mean to 0\n",
        "    samplewise_center=False,\n",
        "    # divide inputs by std of dataset\n",
        "    featurewise_std_normalization=False,\n",
        "    # divide each input by its std\n",
        "    samplewise_std_normalization=False,\n",
        "    # apply ZCA whitening\n",
        "    zca_whitening=False,\n",
        "    # epsilon for ZCA whitening\n",
        "    zca_epsilon=1e-06,\n",
        "    # randomly rotate images in the range (deg 0 to 180)\n",
        "    rotation_range=0,\n",
        "    # randomly shift images horizontally\n",
        "    width_shift_range=0.1,\n",
        "    # randomly shift images vertically\n",
        "    height_shift_range=0.1,\n",
        "    # set range for random shear\n",
        "    shear_range=0.,\n",
        "    # set range for random zoom\n",
        "    zoom_range=0.,\n",
        "    # set range for random channel shifts\n",
        "    channel_shift_range=0.,\n",
        "    # set mode for filling points outside the input boundaries\n",
        "    fill_mode='nearest',\n",
        "    # value used for fill_mode = \"constant\"\n",
        "    cval=0.,\n",
        "    # randomly flip images\n",
        "    horizontal_flip=True,\n",
        "    # randomly flip images\n",
        "    vertical_flip=False,\n",
        "        # set rescaling factor (applied before any other transformation)\n",
        "    rescale=None,\n",
        "    # set function that will be applied on each input\n",
        "    preprocessing_function=None,\n",
        "    # image data format, either \"channels_first\" or \"channels_last\"\n",
        "    data_format=None,\n",
        "    # fraction of images reserved for validation (strictly between 0 and 1)\n",
        "    validation_split=0.0)\n",
        "\n"
      ]
    },
    {
      "cell_type": "code",
      "execution_count": null,
      "metadata": {
        "colab": {
          "base_uri": "https://localhost:8080/"
        },
        "id": "p0ZFIgYxuC0E",
        "outputId": "afa1b124-14a6-4fdb-97a0-2e397933783f"
      },
      "outputs": [
        {
          "output_type": "stream",
          "name": "stderr",
          "text": [
            "<ipython-input-30-f37dcc5790f4>:6: UserWarning: `Model.fit_generator` is deprecated and will be removed in a future version. Please use `Model.fit`, which supports generators.\n",
            "  history  = model.fit_generator(datagen.flow(x_train, y_train, batch_size=batch_size),\n"
          ]
        },
        {
          "output_type": "stream",
          "name": "stdout",
          "text": [
            "Learning rate:  0.001\n",
            "Epoch 1/10\n",
            "98/98 [==============================] - ETA: 0s - loss: 1.8079 - accuracy: 0.3985"
          ]
        },
        {
          "output_type": "stream",
          "name": "stderr",
          "text": [
            "WARNING:tensorflow:Can save best model only with val_acc available, skipping.\n"
          ]
        },
        {
          "output_type": "stream",
          "name": "stdout",
          "text": [
            "\b\b\b\b\b\b\b\b\b\b\b\b\b\b\b\b\b\b\b\b\b\b\b\b\b\b\b\b\b\b\b\b\b\b\b\b\b\b\b\b\b\b\b\b\b\b\b\b\b\b\b\b\b\b\b\b\b\b\b\b\b\b\b\b\b\b\b\b\b\b\b\b\b\b\b\b\b\b\b\b\b\b\r98/98 [==============================] - 54s 374ms/step - loss: 1.8079 - accuracy: 0.3985 - val_loss: 3.3894 - val_accuracy: 0.1621 - lr: 0.0010\n",
            "Learning rate:  0.001\n",
            "Epoch 2/10\n",
            "98/98 [==============================] - ETA: 0s - loss: 1.4207 - accuracy: 0.5405"
          ]
        },
        {
          "output_type": "stream",
          "name": "stderr",
          "text": [
            "WARNING:tensorflow:Can save best model only with val_acc available, skipping.\n"
          ]
        },
        {
          "output_type": "stream",
          "name": "stdout",
          "text": [
            "\b\b\b\b\b\b\b\b\b\b\b\b\b\b\b\b\b\b\b\b\b\b\b\b\b\b\b\b\b\b\b\b\b\b\b\b\b\b\b\b\b\b\b\b\b\b\b\b\b\b\b\b\b\b\b\b\b\b\b\b\b\b\b\b\b\b\b\b\b\b\b\b\b\b\b\b\b\b\b\b\b\b\r98/98 [==============================] - 36s 356ms/step - loss: 1.4207 - accuracy: 0.5405 - val_loss: 2.5152 - val_accuracy: 0.3005 - lr: 0.0010\n",
            "Learning rate:  0.001\n",
            "Epoch 3/10\n",
            "98/98 [==============================] - ETA: 0s - loss: 1.2565 - accuracy: 0.6032"
          ]
        },
        {
          "output_type": "stream",
          "name": "stderr",
          "text": [
            "WARNING:tensorflow:Can save best model only with val_acc available, skipping.\n"
          ]
        },
        {
          "output_type": "stream",
          "name": "stdout",
          "text": [
            "\b\b\b\b\b\b\b\b\b\b\b\b\b\b\b\b\b\b\b\b\b\b\b\b\b\b\b\b\b\b\b\b\b\b\b\b\b\b\b\b\b\b\b\b\b\b\b\b\b\b\b\b\b\b\b\b\b\b\b\b\b\b\b\b\b\b\b\b\b\b\b\b\b\b\b\b\b\b\b\b\b\b\r98/98 [==============================] - 35s 344ms/step - loss: 1.2565 - accuracy: 0.6032 - val_loss: 1.7456 - val_accuracy: 0.4718 - lr: 0.0010\n",
            "Learning rate:  0.001\n",
            "Epoch 4/10\n",
            "98/98 [==============================] - ETA: 0s - loss: 1.1529 - accuracy: 0.6444"
          ]
        },
        {
          "output_type": "stream",
          "name": "stderr",
          "text": [
            "WARNING:tensorflow:Can save best model only with val_acc available, skipping.\n"
          ]
        },
        {
          "output_type": "stream",
          "name": "stdout",
          "text": [
            "\b\b\b\b\b\b\b\b\b\b\b\b\b\b\b\b\b\b\b\b\b\b\b\b\b\b\b\b\b\b\b\b\b\b\b\b\b\b\b\b\b\b\b\b\b\b\b\b\b\b\b\b\b\b\b\b\b\b\b\b\b\b\b\b\b\b\b\b\b\b\b\b\b\b\b\b\b\b\b\b\b\b\r98/98 [==============================] - 35s 342ms/step - loss: 1.1529 - accuracy: 0.6444 - val_loss: 1.5775 - val_accuracy: 0.5295 - lr: 0.0010\n",
            "Learning rate:  0.001\n",
            "Epoch 5/10\n",
            "98/98 [==============================] - ETA: 0s - loss: 1.0609 - accuracy: 0.6739"
          ]
        },
        {
          "output_type": "stream",
          "name": "stderr",
          "text": [
            "WARNING:tensorflow:Can save best model only with val_acc available, skipping.\n"
          ]
        },
        {
          "output_type": "stream",
          "name": "stdout",
          "text": [
            "\b\b\b\b\b\b\b\b\b\b\b\b\b\b\b\b\b\b\b\b\b\b\b\b\b\b\b\b\b\b\b\b\b\b\b\b\b\b\b\b\b\b\b\b\b\b\b\b\b\b\b\b\b\b\b\b\b\b\b\b\b\b\b\b\b\b\b\b\b\b\b\b\b\b\b\b\b\b\b\b\b\b\r98/98 [==============================] - 36s 345ms/step - loss: 1.0609 - accuracy: 0.6739 - val_loss: 1.4140 - val_accuracy: 0.5930 - lr: 0.0010\n",
            "Learning rate:  0.001\n",
            "Epoch 6/10\n",
            "98/98 [==============================] - ETA: 0s - loss: 0.9880 - accuracy: 0.7014"
          ]
        },
        {
          "output_type": "stream",
          "name": "stderr",
          "text": [
            "WARNING:tensorflow:Can save best model only with val_acc available, skipping.\n"
          ]
        },
        {
          "output_type": "stream",
          "name": "stdout",
          "text": [
            "\b\b\b\b\b\b\b\b\b\b\b\b\b\b\b\b\b\b\b\b\b\b\b\b\b\b\b\b\b\b\b\b\b\b\b\b\b\b\b\b\b\b\b\b\b\b\b\b\b\b\b\b\b\b\b\b\b\b\b\b\b\b\b\b\b\b\b\b\b\b\b\b\b\b\b\b\b\b\b\b\b\b\r98/98 [==============================] - 35s 353ms/step - loss: 0.9880 - accuracy: 0.7014 - val_loss: 1.1135 - val_accuracy: 0.6611 - lr: 0.0010\n",
            "Learning rate:  0.001\n",
            "Epoch 7/10\n",
            "98/98 [==============================] - ETA: 0s - loss: 0.9260 - accuracy: 0.7238"
          ]
        },
        {
          "output_type": "stream",
          "name": "stderr",
          "text": [
            "WARNING:tensorflow:Can save best model only with val_acc available, skipping.\n"
          ]
        },
        {
          "output_type": "stream",
          "name": "stdout",
          "text": [
            "\b\b\b\b\b\b\b\b\b\b\b\b\b\b\b\b\b\b\b\b\b\b\b\b\b\b\b\b\b\b\b\b\b\b\b\b\b\b\b\b\b\b\b\b\b\b\b\b\b\b\b\b\b\b\b\b\b\b\b\b\b\b\b\b\b\b\b\b\b\b\b\b\b\b\b\b\b\b\b\b\b\b\r98/98 [==============================] - 35s 352ms/step - loss: 0.9260 - accuracy: 0.7238 - val_loss: 1.2578 - val_accuracy: 0.6342 - lr: 0.0010\n",
            "Learning rate:  0.001\n",
            "Epoch 8/10\n",
            "98/98 [==============================] - ETA: 0s - loss: 0.8714 - accuracy: 0.7441"
          ]
        },
        {
          "output_type": "stream",
          "name": "stderr",
          "text": [
            "WARNING:tensorflow:Can save best model only with val_acc available, skipping.\n"
          ]
        },
        {
          "output_type": "stream",
          "name": "stdout",
          "text": [
            "\b\b\b\b\b\b\b\b\b\b\b\b\b\b\b\b\b\b\b\b\b\b\b\b\b\b\b\b\b\b\b\b\b\b\b\b\b\b\b\b\b\b\b\b\b\b\b\b\b\b\b\b\b\b\b\b\b\b\b\b\b\b\b\b\b\b\b\b\b\b\b\b\b\b\b\b\b\b\b\b\b\b\r98/98 [==============================] - 35s 345ms/step - loss: 0.8714 - accuracy: 0.7441 - val_loss: 1.0690 - val_accuracy: 0.6791 - lr: 0.0010\n",
            "Learning rate:  0.001\n",
            "Epoch 9/10\n",
            "98/98 [==============================] - ETA: 0s - loss: 0.8347 - accuracy: 0.7563"
          ]
        },
        {
          "output_type": "stream",
          "name": "stderr",
          "text": [
            "WARNING:tensorflow:Can save best model only with val_acc available, skipping.\n"
          ]
        },
        {
          "output_type": "stream",
          "name": "stdout",
          "text": [
            "\b\b\b\b\b\b\b\b\b\b\b\b\b\b\b\b\b\b\b\b\b\b\b\b\b\b\b\b\b\b\b\b\b\b\b\b\b\b\b\b\b\b\b\b\b\b\b\b\b\b\b\b\b\b\b\b\b\b\b\b\b\b\b\b\b\b\b\b\b\b\b\b\b\b\b\b\b\b\b\b\b\b\r98/98 [==============================] - 35s 349ms/step - loss: 0.8347 - accuracy: 0.7563 - val_loss: 1.0150 - val_accuracy: 0.7044 - lr: 0.0010\n",
            "Learning rate:  0.001\n",
            "Epoch 10/10\n",
            "98/98 [==============================] - ETA: 0s - loss: 0.7937 - accuracy: 0.7710"
          ]
        },
        {
          "output_type": "stream",
          "name": "stderr",
          "text": [
            "WARNING:tensorflow:Can save best model only with val_acc available, skipping.\n"
          ]
        },
        {
          "output_type": "stream",
          "name": "stdout",
          "text": [
            "\b\b\b\b\b\b\b\b\b\b\b\b\b\b\b\b\b\b\b\b\b\b\b\b\b\b\b\b\b\b\b\b\b\b\b\b\b\b\b\b\b\b\b\b\b\b\b\b\b\b\b\b\b\b\b\b\b\b\b\b\b\b\b\b\b\b\b\b\b\b\b\b\b\b\b\b\b\b\b\b\b\b\r98/98 [==============================] - 36s 351ms/step - loss: 0.7937 - accuracy: 0.7710 - val_loss: 0.9347 - val_accuracy: 0.7353 - lr: 0.0010\n"
          ]
        }
      ],
      "source": [
        "\n",
        "# Compute quantities required for featurewise normalization\n",
        "# (std, mean, and principal components if ZCA whitening is applied).\n",
        "datagen.fit(x_train)\n",
        "\n",
        "# # Fit the model on the batches generated by datagen.flow().\n",
        "history  = model.fit_generator(datagen.flow(x_train, y_train, batch_size=batch_size),\n",
        "                    validation_data=(x_test, y_test),\n",
        "                    epochs=epochs, verbose=1, workers=4,\n",
        "                    callbacks=callbacks)\n",
        "\n",
        "weight_list_per_epoch = gw.weight_list\n"
      ]
    },
    {
      "cell_type": "code",
      "execution_count": null,
      "metadata": {
        "id": "psmt_8D6hafu"
      },
      "outputs": [],
      "source": [
        "def train(model,epochs):\n",
        "    gw = Get_Weights(True)\n",
        "    callbacks = [lr_reducer, lr_scheduler,gw]\n",
        "    model.compile(loss='categorical_crossentropy',\n",
        "                optimizer=Adam(learning_rate=lr_schedule(0)),\n",
        "                metrics=['accuracy'])\n",
        "\n",
        "    print('Using real-time data augmentation.')\n",
        "    # This will do preprocessing and realtime data augmentation:\n",
        "    datagen = ImageDataGenerator(\n",
        "        # set input mean to 0 over the dataset\n",
        "        featurewise_center=False,\n",
        "        # set each sample mean to 0\n",
        "        samplewise_center=False,\n",
        "        # divide inputs by std of dataset\n",
        "        featurewise_std_normalization=False,\n",
        "        # divide each input by its std\n",
        "        samplewise_std_normalization=False,\n",
        "        # apply ZCA whitening\n",
        "        zca_whitening=False,\n",
        "        # epsilon for ZCA whitening\n",
        "        zca_epsilon=1e-06,\n",
        "        # randomly rotate images in the range (deg 0 to 180)\n",
        "        rotation_range=0,\n",
        "        # randomly shift images horizontally\n",
        "        width_shift_range=0.1,\n",
        "        # randomly shift images vertically\n",
        "        height_shift_range=0.1,\n",
        "        # set range for random shear\n",
        "        shear_range=0.,\n",
        "        # set range for random zoom\n",
        "        zoom_range=0.,\n",
        "        # set range for random channel shifts\n",
        "        channel_shift_range=0.,\n",
        "        # set mode for filling points outside the input boundaries\n",
        "        fill_mode='nearest',\n",
        "        # value used for fill_mode = \"constant\"\n",
        "        cval=0.,\n",
        "        # randomly flip images\n",
        "        horizontal_flip=True,\n",
        "        # randomly flip images\n",
        "        vertical_flip=False,\n",
        "        # set rescaling factor (applied before any other transformation)\n",
        "        rescale=None,\n",
        "        # set function that will be applied on each input\n",
        "        preprocessing_function=None,\n",
        "        # image data format, either \"channels_first\" or \"channels_last\"\n",
        "        data_format=None,\n",
        "        # fraction of images reserved for validation (strictly between 0 and 1)\n",
        "        validation_split=0.0)\n",
        "\n",
        "    # Compute quantities required for featurewise normalization\n",
        "    # (std, mean, and principal components if ZCA whitening is applied).\n",
        "    datagen.fit(x_train)\n",
        "\n",
        "    # Fit the model on the batches generated by datagen.flow().\n",
        "    history = model.fit_generator(datagen.flow(x_train, y_train, batch_size=batch_size),\n",
        "                        validation_data=(x_test, y_test),\n",
        "                        epochs=epochs, verbose=1, workers=4,\n",
        "                        callbacks=callbacks)\n",
        "    return model,gw.weight_list,history"
      ]
    },
    {
      "cell_type": "code",
      "execution_count": null,
      "metadata": {
        "id": "r7jqJv4mhbN_"
      },
      "outputs": [],
      "source": [
        "from keras import backend as K\n",
        "\n",
        "def custom_loss(lmbda , regularizer_value):\n",
        "  def loss(y_true , y_pred):\n",
        "    # print(type(K.categorical_crossentropy(y_true ,y_pred)),K.categorical_crossentropy(y_true ,y_pred),regularizer_value)\n",
        "    return K.categorical_crossentropy(y_true ,y_pred) + lmbda * regularizer_value\n",
        "  return loss"
      ]
    },
    {
      "cell_type": "code",
      "execution_count": null,
      "metadata": {
        "id": "CiLiwCsGhgsF"
      },
      "outputs": [],
      "source": [
        "def my_get_l1_norms_filters(model,first_time):\n",
        "    conv_layers = my_get_all_conv_layers(model,first_time)\n",
        "    l1_norms = list()\n",
        "    for index,layer_index in enumerate(conv_layers):\n",
        "        l1_norms.append([])\n",
        "        # print(layer_index)\n",
        "        weights = model.layers[layer_index].get_weights()[0]\n",
        "        num_filters = len(weights[0,0,0,:])\n",
        "        for i in range(num_filters):\n",
        "            weights_sum = np.sum(abs(weights[:,:,:,i]))\n",
        "            l1_norms[index].append(weights_sum)\n",
        "    print(l1_norms)\n",
        "    return l1_norms"
      ]
    },
    {
      "cell_type": "code",
      "execution_count": null,
      "metadata": {
        "id": "Zhcyvlp5hhfX"
      },
      "outputs": [],
      "source": [
        "def my_get_regularizer_value(model,weight_list_per_epoch,percentage,first_time):\n",
        "    l1_norms_per_epoch = my_get_l1_norms_filters_per_epoch(weight_list_per_epoch)\n",
        "    distance_matrix_list = my_get_distance_matrix_list(l1_norms_per_epoch)\n",
        "    episodes_for_all_layers = my_get_episodes_for_all_layers(distance_matrix_list,percentage)\n",
        "    l1_norms = my_get_l1_norms_filters(model,first_time)\n",
        "    print(episodes_for_all_layers)\n",
        "    regularizer_value = 0\n",
        "    for layer_index,layer in enumerate(episodes_for_all_layers):\n",
        "        for episode in layer:\n",
        "            # print(episode[1],episode[0])\n",
        "            regularizer_value += abs(l1_norms[layer_index][episode[1]] - l1_norms[layer_index][episode[0]])\n",
        "    regularizer_value = np.exp(-0.001*(regularizer_value))\n",
        "    return regularizer_value\n"
      ]
    },
    {
      "cell_type": "code",
      "execution_count": null,
      "metadata": {
        "id": "v0Bv5bWWhkbj"
      },
      "outputs": [],
      "source": [
        "def optimize(model,weight_list_per_epoch,epochs,percentage):\n",
        "    callbacks = [lr_reducer, lr_scheduler]\n",
        "    regularizer_value = my_get_regularizer_value(model,weight_list_per_epoch,percentage,True)\n",
        "    model_loss = custom_loss(1,regularizer_value)\n",
        "    print(\"INITIAL REGULARIZER VALUE \",my_get_regularizer_value(model,weight_list_per_epoch,percentage,True))\n",
        "\n",
        "    model.compile(loss=model_loss,\n",
        "                optimizer=Adam(learning_rate=lr_schedule(0)),\n",
        "                metrics=['accuracy'])\n",
        "\n",
        "    print('Using real-time data augmentation.')\n",
        "    # This will do preprocessing and realtime data augmentation:\n",
        "    datagen = ImageDataGenerator(\n",
        "        # set input mean to 0 over the dataset\n",
        "        featurewise_center=False,\n",
        "        # set each sample mean to 0\n",
        "        samplewise_center=False,\n",
        "        # divide inputs by std of dataset\n",
        "        featurewise_std_normalization=False,\n",
        "        # divide each input by its std\n",
        "        samplewise_std_normalization=False,\n",
        "        # apply ZCA whitening\n",
        "        zca_whitening=False,\n",
        "        # epsilon for ZCA whitening\n",
        "        zca_epsilon=1e-06,\n",
        "        # randomly rotate images in the range (deg 0 to 180)\n",
        "        rotation_range=0,\n",
        "        # randomly shift images horizontally\n",
        "        width_shift_range=0.1,\n",
        "        # randomly shift images vertically\n",
        "        height_shift_range=0.1,\n",
        "        # set range for random shear\n",
        "        shear_range=0.,\n",
        "        # set range for random zoom\n",
        "        zoom_range=0.,\n",
        "        # set range for random channel shifts\n",
        "        channel_shift_range=0.,\n",
        "        # set mode for filling points outside the input boundaries\n",
        "        fill_mode='nearest',\n",
        "        # value used for fill_mode = \"constant\"\n",
        "        cval=0.,\n",
        "        # randomly flip images\n",
        "        horizontal_flip=True,\n",
        "        # randomly flip images\n",
        "        vertical_flip=False,\n",
        "        # set rescaling factor (applied before any other transformation)\n",
        "        rescale=None,\n",
        "        # set function that will be applied on each input\n",
        "        preprocessing_function=None,\n",
        "        # image data format, either \"channels_first\" or \"channels_last\"\n",
        "        data_format=None,\n",
        "        # fraction of images reserved for validation (strictly between 0 and 1)\n",
        "        validation_split=0.0)\n",
        "\n",
        "    # Compute quantities required for featurewise normalization\n",
        "    # (std, mean, and principal components if ZCA whitening is applied).\n",
        "    datagen.fit(x_train)\n",
        "\n",
        "    # Fit the model on the batches generated by datagen.flow().\n",
        "    history = model.fit_generator(datagen.flow(x_train, y_train, batch_size=batch_size),\n",
        "                        validation_data=(x_test, y_test),\n",
        "                        epochs=epochs, verbose=1, workers=4,\n",
        "                        callbacks=callbacks)\n",
        "    print(\"FINAL REGULARIZER VALUE \",my_get_regularizer_value(model,weight_list_per_epoch,percentage,True))\n",
        "\n",
        "    return model,history"
      ]
    },
    {
      "cell_type": "code",
      "execution_count": null,
      "metadata": {
        "colab": {
          "base_uri": "https://localhost:8080/"
        },
        "id": "96-D-JaNhsVZ",
        "outputId": "54205f6d-7d3a-4a52-900a-f6785de59fa4"
      },
      "outputs": [
        {
          "output_type": "stream",
          "name": "stdout",
          "text": [
            "1 conv2d 448 442368\n",
            "4 conv2d_1 2320 2359296\n",
            "7 conv2d_2 2320 2359296\n",
            "11 conv2d_3 2320 2359296\n",
            "14 conv2d_4 2320 2359296\n",
            "18 conv2d_5 2320 2359296\n",
            "21 conv2d_6 2320 2359296\n",
            "25 conv2d_7 4640 1179648\n",
            "28 conv2d_8 9248 2359296\n",
            "29 conv2d_9 544 131072\n",
            "33 conv2d_10 9248 2359296\n",
            "36 conv2d_11 9248 2359296\n",
            "40 conv2d_12 9248 2359296\n",
            "43 conv2d_13 9248 2359296\n",
            "47 conv2d_14 18496 1179648\n",
            "50 conv2d_15 36928 2359296\n",
            "51 conv2d_16 2112 131072\n",
            "55 conv2d_17 36928 2359296\n",
            "58 conv2d_18 36928 2359296\n",
            "62 conv2d_19 36928 2359296\n",
            "65 conv2d_20 36928 2359296\n",
            "71 dense 650 640.0\n",
            "Initial Validation Accuracy = 0.7353000044822693\n"
          ]
        }
      ],
      "source": [
        "#this dictionary is to log the parameters and is later converted into a dataframe.\n",
        "log_dict = dict()\n",
        "log_dict['train_loss'] = []\n",
        "log_dict['train_acc'] = []\n",
        "log_dict['val_loss'] = []\n",
        "log_dict['val_acc'] = []\n",
        "log_dict['total_params'] = []\n",
        "log_dict['total_flops'] = []\n",
        "\n",
        "\n",
        "best_acc_index = history.history['val_accuracy'].index(max(history.history['val_accuracy']))\n",
        "log_dict['train_loss'].append(history.history['loss'][best_acc_index])\n",
        "log_dict['train_acc'].append(history.history['accuracy'][best_acc_index])\n",
        "log_dict['val_loss'].append(history.history['val_loss'][best_acc_index])\n",
        "log_dict['val_acc'].append(history.history['val_accuracy'][best_acc_index])\n",
        "validation_accuracy = max(history.history['val_accuracy'])\n",
        "\n",
        "log_dict['remaining_filters'] = []\n",
        "a,b = count_model_params_flops(model,True)\n",
        "log_dict['total_params'].append(a)\n",
        "log_dict['total_flops'].append(b)\n",
        "x = (my_get_weights_in_conv_layers(model,True))\n",
        "remaining_filters = []\n",
        "for i in x:\n",
        "  remaining_filters.append(i.shape[3])\n",
        "log_dict['remaining_filters'].append(remaining_filters)\n",
        "\n",
        "log_df = pd.DataFrame(log_dict)\n",
        "log_df.to_csv('/content/drive/MyDrive/ML/resnet_OPT_4.csv')\n",
        "print(\"Initial Validation Accuracy = {}\".format(validation_accuracy) )\n",
        "max_val_acc = validation_accuracy\n",
        "count = 0\n",
        "model.save('/content/drive/MyDrive/ML/')\n",
        "# while validation_accuracy - max_val_acc >= -0.02 and count < 4 :\n",
        "\n",
        "#     print(\"ITERATION {} \".format(count+1))\n",
        "\n",
        "#     if max_val_acc < validation_accuracy:\n",
        "#         max_val_acc = validation_accuracy\n",
        "\n",
        "#     model,_ = optimize(model,weight_list_per_epoch,10,10)\n",
        "#     model = my_delete_from_block_1(model,weight_list_per_epoch)\n",
        "#     model =  my_delete_from_block_2(model,weight_list_per_epoch)\n",
        "#     model = my_delete_from_block_3(model,weight_list_per_epoch)\n",
        "#     model,weight_list_per_epoch,history = train(model,200)\n",
        "\n",
        "\n",
        "#     a,b = count_model_params_flops(model,False)\n",
        "\n",
        "\n",
        "#     validation_accuracy = max(history.history['val_accuracy'])\n",
        "#     best_acc_index = history.history['val_accuracy'].index(max(history.history['val_accuracy']))\n",
        "#     log_dict['train_loss'].append(history.history['loss'][best_acc_index])\n",
        "#     log_dict['train_acc'].append(history.history['accuracy'][best_acc_index])\n",
        "#     log_dict['val_loss'].append(history.history['val_loss'][best_acc_index])\n",
        "#     log_dict['val_acc'].append(history.history['val_accuracy'][best_acc_index])\n",
        "#     log_dict['total_params'].append(a)\n",
        "#     log_dict['total_flops'].append(b)\n",
        "#     x = (my_get_weights_in_conv_layers(model,True))\n",
        "#     remaining_filters = []\n",
        "#     for i in x:\n",
        "#       remaining_filters.append(i.shape[3])\n",
        "#     log_dict['remaining_filters'].append(remaining_filters)\n",
        "\n",
        "#     log_df = pd.DataFrame(log_dict)\n",
        "#     log_df.to_csv('/')\n",
        "\n",
        "#     print(\"VALIDATION ACCURACY AFTER {} ITERATIONS = {}\".format(count+1,validation_accuracy))\n",
        "#     count+=1\n",
        "#     model.save('/')"
      ]
    },
    {
      "cell_type": "code",
      "source": [
        "from google.colab import drive\n",
        "drive.mount('/content/drive')"
      ],
      "metadata": {
        "colab": {
          "base_uri": "https://localhost:8080/"
        },
        "id": "S9l-vPkK1HLu",
        "outputId": "71b9e087-6412-42ca-b551-0443cea68fbb"
      },
      "execution_count": null,
      "outputs": [
        {
          "output_type": "stream",
          "name": "stdout",
          "text": [
            "Mounted at /content/drive\n"
          ]
        }
      ]
    },
    {
      "cell_type": "code",
      "source": [
        "log_dict['total_flops']# Print training and validation metrics\n",
        "print(\"Training Loss:\", log_dict['train_loss'])\n",
        "print(\"Training Accuracy:\", log_dict['train_acc'])\n",
        "print(\"Validation Loss:\", log_dict['val_loss'])\n",
        "print(\"Validation Accuracy:\", log_dict['val_acc'])\n"
      ],
      "metadata": {
        "colab": {
          "base_uri": "https://localhost:8080/"
        },
        "id": "X0yaxLDs1Ic4",
        "outputId": "fe7773aa-aac4-474d-f4c5-e7109144ec0f"
      },
      "execution_count": null,
      "outputs": [
        {
          "output_type": "stream",
          "name": "stdout",
          "text": [
            "Training Loss: [0.7936816215515137]\n",
            "Training Accuracy: [0.7709800004959106]\n",
            "Validation Loss: [0.9347435832023621]\n",
            "Validation Accuracy: [0.7353000044822693]\n"
          ]
        }
      ]
    },
    {
      "cell_type": "code",
      "source": [
        "# Print model parameters and complexity\n",
        "print(\"Total Parameters:\", log_dict['total_params'])\n",
        "print(\"Total FLOPs:\", log_dict['total_flops'])"
      ],
      "metadata": {
        "colab": {
          "base_uri": "https://localhost:8080/"
        },
        "id": "aDNe-eAx2Vnl",
        "outputId": "aad22ba9-c5f3-44fa-97bc-15b2dd70786b"
      },
      "execution_count": null,
      "outputs": [
        {
          "output_type": "stream",
          "name": "stdout",
          "text": [
            "Total Parameters: [271690]\n",
            "Total FLOPs: [40813184]\n"
          ]
        }
      ]
    },
    {
      "cell_type": "code",
      "source": [
        "# Print remaining filters after pruning\n",
        "print(\"Remaining Filters:\", log_dict['remaining_filters'])\n"
      ],
      "metadata": {
        "colab": {
          "base_uri": "https://localhost:8080/"
        },
        "id": "CPS80g1f41WU",
        "outputId": "58e774bb-1bc8-49ec-f731-acd703d6e5c5"
      },
      "execution_count": null,
      "outputs": [
        {
          "output_type": "stream",
          "name": "stdout",
          "text": [
            "Remaining Filters: [[16, 16, 16, 16, 16, 16, 16, 32, 32, 32, 32, 32, 32, 32, 64, 64, 64, 64, 64, 64, 64]]\n"
          ]
        }
      ]
    },
    {
      "cell_type": "code",
      "source": [
        "epoch = 10  # Replace 10 with the actual epoch number you want to print\n",
        "\n",
        "# Print learning rate schedule with the defined epoch\n",
        "print(\"Learning Rate:\", lr_schedule(epoch))\n"
      ],
      "metadata": {
        "colab": {
          "base_uri": "https://localhost:8080/"
        },
        "id": "x1cnXDog5Jh4",
        "outputId": "c34d8233-338e-4331-a54e-25210d879485"
      },
      "execution_count": null,
      "outputs": [
        {
          "output_type": "stream",
          "name": "stdout",
          "text": [
            "Learning rate:  0.001\n",
            "Learning Rate: 0.001\n"
          ]
        }
      ]
    },
    {
      "cell_type": "code",
      "source": [
        "# Print iteration count and convergence\n",
        "print(\"Iteration Count:\", count)\n",
        "print(\"Validation Accuracy after Iterations:\", validation_accuracy)"
      ],
      "metadata": {
        "colab": {
          "base_uri": "https://localhost:8080/"
        },
        "id": "ctGlgMII5SCN",
        "outputId": "6266cbf0-f63e-4a53-fa73-46049bdc194f"
      },
      "execution_count": null,
      "outputs": [
        {
          "output_type": "stream",
          "name": "stdout",
          "text": [
            "Iteration Count: 0\n",
            "Validation Accuracy after Iterations: 0.7353000044822693\n"
          ]
        }
      ]
    },
    {
      "cell_type": "code",
      "source": [
        "print(log_df)"
      ],
      "metadata": {
        "colab": {
          "base_uri": "https://localhost:8080/"
        },
        "id": "vJfLwXj95e-h",
        "outputId": "0f831ec7-8e29-4d22-cd34-3fd04cd1cec8"
      },
      "execution_count": null,
      "outputs": [
        {
          "output_type": "stream",
          "name": "stdout",
          "text": [
            "   train_loss  train_acc  val_loss  val_acc  total_params  total_flops  \\\n",
            "0    0.793682    0.77098  0.934744   0.7353        271690     40813184   \n",
            "\n",
            "                                   remaining_filters  \n",
            "0  [16, 16, 16, 16, 16, 16, 16, 32, 32, 32, 32, 3...  \n"
          ]
        }
      ]
    },
    {
      "cell_type": "code",
      "source": [
        "import matplotlib.pyplot as plt\n",
        "\n",
        "# Assuming you have a History object named history from model.fit\n",
        "# history = model.fit(...)\n",
        "\n",
        "# Plotting training and validation loss\n",
        "plt.plot(history.epoch, history.history['loss'], 'bo', label='Training Loss')\n",
        "plt.plot(history.epoch, history.history['val_loss'], 'r-', label='Validation Loss')\n",
        "plt.title('Training and Validation Loss')\n",
        "plt.xlabel('Epochs')\n",
        "plt.ylabel('Loss')\n",
        "plt.legend()\n",
        "plt.show()\n"
      ],
      "metadata": {
        "colab": {
          "base_uri": "https://localhost:8080/",
          "height": 472
        },
        "id": "fVpEPh_x5lXj",
        "outputId": "e56fe259-f764-4312-fec2-b3a6549c7147"
      },
      "execution_count": null,
      "outputs": [
        {
          "output_type": "display_data",
          "data": {
            "text/plain": [
              "<Figure size 640x480 with 1 Axes>"
            ],
            "image/png": "[encoded data removed]"
          },
          "metadata": {}
        }
      ]
    },
    {
      "cell_type": "code",
      "source": [
        "import numpy as np\n",
        "\n",
        "def cosine_similarity(vector1, vector2):\n",
        "    dot_product = np.dot(vector1, vector2)\n",
        "    norm_vector1 = np.linalg.norm(vector1)\n",
        "    norm_vector2 = np.linalg.norm(vector2)\n",
        "    similarity = dot_product / (norm_vector1 * norm_vector2)\n",
        "    return similarity\n"
      ],
      "metadata": {
        "id": "2a4ZZU-C7lOd"
      },
      "execution_count": null,
      "outputs": []
    },
    {
      "cell_type": "code",
      "source": [
        "def calculate_cosine_similarity(model, layer_index, epochs=10):\n",
        "    similarity_values = []\n",
        "\n",
        "    # Get the layer weights for the specified layer index\n",
        "    layer_weights = model.layers[layer_index].get_weights()[0]\n",
        "\n",
        "    for epoch in range(epochs):\n",
        "        # Train the model for one epoch\n",
        "        history = model.fit(...)  # You need to replace ... with actual training data\n",
        "\n",
        "        # Get the updated layer weights after training\n",
        "        updated_layer_weights = model.layers[layer_index].get_weights()[0]\n",
        "\n",
        "        # Calculate cosine similarity for every pair of filters\n",
        "        for i in range(layer_weights.shape[3]):\n",
        "            for j in range(i + 1, layer_weights.shape[3]):\n",
        "                filter1 = layer_weights[:, :, :, i].flatten()\n",
        "                filter2 = layer_weights[:, :, :, j].flatten()\n",
        "                similarity = cosine_similarity(filter1, filter2)\n",
        "                similarity_values.append(similarity)\n",
        "\n",
        "        # Update the original layer weights with the updated weights for the next epoch\n",
        "        layer_weights = updated_layer_weights\n",
        "\n",
        "    return similarity_values\n"
      ],
      "metadata": {
        "id": "UVeSoN_W8ndm"
      },
      "execution_count": null,
      "outputs": []
    },
    {
      "cell_type": "code",
      "source": [
        "import numpy as np\n",
        "import matplotlib.pyplot as plt\n",
        "from keras.models import load_model\n",
        "from sklearn.metrics.pairwise import cosine_similarity\n",
        "\n",
        "def calculate_cosine_similarity(model, layer_index, x_train, y_train, epochs=10):\n",
        "    similarity_values = []\n",
        "\n",
        "    # Get the layer weights for the specified layer index\n",
        "    layer_weights = model.layers[layer_index].get_weights()[0]\n",
        "\n",
        "    for epoch in range(epochs):\n",
        "        # Train the model for one epoch using actual data\n",
        "        history = model.fit(x_train, y_train, epochs=1, verbose=0)\n",
        "\n",
        "        # Get the updated layer weights after training\n",
        "        updated_layer_weights = model.layers[layer_index].get_weights()[0]\n",
        "\n",
        "        # Calculate cosine similarity for every pair of filters\n",
        "        for i in range(layer_weights.shape[3]):\n",
        "            for j in range(i + 1, layer_weights.shape[3]):\n",
        "                filter1 = layer_weights[:, :, :, i].flatten()\n",
        "                filter2 = layer_weights[:, :, :, j].flatten()\n",
        "                similarity = cosine_similarity([filter1], [filter2])[0][0]\n",
        "                similarity_values.append(similarity)\n",
        "\n",
        "        # Update the original layer weights with the updated weights for the next epoch\n",
        "        layer_weights = updated_layer_weights\n",
        "\n",
        "    return similarity_values\n"
      ],
      "metadata": {
        "id": "Jtduo-ct8qQf"
      },
      "execution_count": null,
      "outputs": []
    },
    {
      "cell_type": "code",
      "source": [
        "\n",
        "\n",
        "# Specify the layer index for which you want to calculate cosine similarity\n",
        "layer_index = 1  # Assuming the Conv2D layer is the second layer (index 1) in the model\n",
        "\n",
        "# Calculate cosine similarity over 10 epochs\n",
        "similarity_values = calculate_cosine_similarity(model, layer_index, x_train, y_train, epochs=10)\n",
        "\n",
        "# Plot the similarity values\n",
        "plt.figure(figsize=(8, 6))\n",
        "plt.plot(similarity_values)\n",
        "plt.xlabel('Filter Pair Index')\n",
        "plt.ylabel('Cosine Similarity')\n",
        "plt.title('Cosine Similarity Between Filter Pairs')\n",
        "plt.grid(True)\n",
        "plt.show()\n"
      ],
      "metadata": {
        "colab": {
          "base_uri": "https://localhost:8080/",
          "height": 564
        },
        "id": "Sj4t4rZx9CkU",
        "outputId": "af23dcc4-d9f9-4c23-9e5f-d3ea8c539715"
      },
      "execution_count": null,
      "outputs": [
        {
          "output_type": "display_data",
          "data": {
            "text/plain": [
              "<Figure size 800x600 with 1 Axes>"
            ],
            "image/png": "[encoded data removed]"
          },
          "metadata": {}
        }
      ]
    },
    {
      "cell_type": "code",
      "source": [
        "import numpy as np\n",
        "import pandas as pd\n",
        "import matplotlib.pyplot as plt\n",
        "from keras.models import load_model\n",
        "from sklearn.metrics.pairwise import cosine_similarity\n",
        "\n",
        "# Function to calculate cosine similarity\n",
        "def calculate_cosine_similarity(model, layer_index, x_train, y_train, epochs=10):\n",
        "    similarity_values = []\n",
        "\n",
        "    # Get the layer weights for the specified layer index\n",
        "    layer_weights = model.layers[layer_index].get_weights()[0]\n",
        "\n",
        "    for epoch in range(epochs):\n",
        "        # Train the model for one epoch using actual data\n",
        "        history = model.fit(x_train, y_train, epochs=1, verbose=0)\n",
        "\n",
        "        # Get the updated layer weights after training\n",
        "        updated_layer_weights = model.layers[layer_index].get_weights()[0]\n",
        "\n",
        "        # Calculate cosine similarity for every pair of filters\n",
        "        for i in range(layer_weights.shape[3]):\n",
        "            for j in range(i + 1, layer_weights.shape[3]):\n",
        "                filter1 = layer_weights[:, :, :, i].flatten()\n",
        "                filter2 = layer_weights[:, :, :, j].flatten()\n",
        "                similarity = cosine_similarity([filter1], [filter2])[0][0]\n",
        "                similarity_values.append((i, j, similarity))  # Store filter indices and similarity value\n",
        "\n",
        "        # Update the original layer weights with the updated weights for the next epoch\n",
        "        layer_weights = updated_layer_weights\n",
        "\n",
        "    return similarity_values\n",
        "\n",
        "# Function to prune similar filters\n",
        "def prune_similar_filters(similarity_values, threshold):\n",
        "    similar_pairs = []\n",
        "    pruned_filters = set()\n",
        "\n",
        "    # Identify similar filter pairs based on threshold\n",
        "    for i, j, similarity in similarity_values:\n",
        "        if similarity >= threshold:\n",
        "            similar_pairs.append((i, j))\n",
        "\n",
        "    # Prune one filter from each similar pair\n",
        "    for i, j in similar_pairs:\n",
        "        if i not in pruned_filters and j not in pruned_filters:\n",
        "            pruned_filters.add(j)  # Add the index of the filter to prune\n",
        "\n",
        "    return pruned_filters\n",
        "\n",
        "# # Load the trained model\n",
        "# model = load_model('path_to_your_trained_model.h5')\n",
        "\n",
        "# # Load or generate your training data\n",
        "# x_train = ...  # Actual training input data (numpy array)\n",
        "# y_train = ...  # Actual training labels (numpy array)\n",
        "\n",
        "# Specify the layer index for which you want to calculate cosine similarity\n",
        "layer_index = 1  # Assuming the Conv2D layer is the second layer (index 1) in the model\n",
        "\n",
        "# Calculate cosine similarity over 10 epochs\n",
        "print(\"Calculating cosine similarity...\")\n",
        "similarity_values = calculate_cosine_similarity(model, layer_index, x_train, y_train, epochs=10)\n",
        "\n",
        "# Specify the threshold for similarity\n",
        "threshold = 0.95  # Adjust the threshold as needed\n",
        "\n",
        "# Prune similar filters based on cosine similarity\n",
        "pruned_filters = prune_similar_filters(similarity_values, threshold)\n",
        "print(\"Pruned Filters:\", pruned_filters)\n",
        "\n",
        "# Further code to prune the filters from the model using the filter indices in pruned_filters\n",
        "# You can use a function like my_delete_filters to prune the filters from the model\n",
        "\n",
        "# Example:\n",
        "# model_new = my_delete_filters(model, pruned_filters)\n",
        "\n",
        "# Save the pruned model\n",
        "# model_new.save('path_to_pruned_model.h5')\n",
        "\n",
        "# Print training and validation metrics\n",
        "print(\"Training Loss:\", history.history['loss'])\n",
        "print(\"Training Accuracy:\", history.history['accuracy'])\n",
        "print(\"Validation Loss:\", history.history['val_loss'])\n",
        "print(\"Validation Accuracy:\", history.history['val_accuracy'])\n",
        "\n",
        "# Print model parameters and complexity\n",
        "total_params = model.count_params()\n",
        "total_flops = ...  # Calculate total FLOPs based on model architecture\n",
        "\n",
        "print(\"Total Parameters:\", total_params)\n",
        "print(\"Total FLOPs:\", total_flops)\n",
        "\n",
        "# Print remaining number of filters after pruning\n",
        "remaining_filters = model.layers[layer_index].filters - len(pruned_filters)\n",
        "print(\"Remaining Filters:\", remaining_filters)\n",
        "\n",
        "# # Print regularization value (assuming it's stored in a variable named regularization_value)\n",
        "# print(\"Regularization Value:\", regularization_value)\n",
        "\n",
        "# # Print learning rate schedule (assuming it's stored in a variable named lr_schedule)\n",
        "# print(\"Learning Rate:\", lr_schedule(epoch))\n",
        "\n",
        "# # Print iteration count and convergence (assuming iteration count is stored in a variable named iteration_count)\n",
        "# print(\"Iteration Count:\", iteration_count)\n",
        "# print(\"Validation Accuracy at each Iteration:\", validation_accuracy_list)\n",
        "\n",
        "# Export DataFrame to CSV\n",
        "log_dict = {\n",
        "    'train_loss': history.history['loss'],\n",
        "    'train_acc': history.history['accuracy'],\n",
        "    'val_loss': history.history['val_loss'],\n",
        "    'val_acc': history.history['val_accuracy'],\n",
        "    'total_params': total_params,\n",
        "    'total_flops': total_flops,\n",
        "    'remaining_filters': remaining_filters,\n",
        "    # 'regularization_value': regularization_value,\n",
        "    # 'learning_rate': lr_schedule(epoch),\n",
        "    # 'iteration_count': iteration_count,\n",
        "    # 'validation_accuracy_list': validation_accuracy_list\n",
        "}\n",
        "\n",
        "log_df = pd.DataFrame(log_dict)\n",
        "log_df.to_csv('/content/drive/MyDrive/ML/path_to_log_file.csv')\n"
      ],
      "metadata": {
        "colab": {
          "base_uri": "https://localhost:8080/"
        },
        "id": "YU3L86dk928S",
        "outputId": "fa4096a0-ab5e-4d4b-ed28-73df9a9a91d6"
      },
      "execution_count": null,
      "outputs": [
        {
          "output_type": "stream",
          "name": "stdout",
          "text": [
            "Calculating cosine similarity...\n",
            "Pruned Filters: set()\n",
            "Training Loss: [1.807948112487793, 1.4206560850143433, 1.2565022706985474, 1.1528605222702026, 1.0609005689620972, 0.987966001033783, 0.9260185956954956, 0.8713622093200684, 0.8346614837646484, 0.7936816215515137]\n",
            "Training Accuracy: [0.3984600007534027, 0.5405399799346924, 0.6032400131225586, 0.6443799734115601, 0.6739400029182434, 0.7014399766921997, 0.7238399982452393, 0.7441200017929077, 0.7562599778175354, 0.7709800004959106]\n",
            "Validation Loss: [3.3893871307373047, 2.5152318477630615, 1.7455531358718872, 1.5775021314620972, 1.4139752388000488, 1.113532543182373, 1.257812738418579, 1.0690277814865112, 1.0150189399719238, 0.9347435832023621]\n",
            "Validation Accuracy: [0.16210000216960907, 0.3005000054836273, 0.4717999994754791, 0.5295000076293945, 0.5929999947547913, 0.6610999703407288, 0.6341999769210815, 0.679099977016449, 0.7044000029563904, 0.7353000044822693]\n",
            "Total Parameters: 274442\n",
            "Total FLOPs: Ellipsis\n",
            "Remaining Filters: 16\n"
          ]
        }
      ]
    },
    {
      "cell_type": "code",
      "source": [
        "import pandas as pd\n",
        "import matplotlib.pyplot as plt\n",
        "\n",
        "# # Load the log dataframe from the CSV file\n",
        "# log_df = pd.read_csv('path_to_log_file.csv')\n",
        "\n",
        "# Plot training and validation loss\n",
        "plt.figure(figsize=(10, 6))\n",
        "plt.plot(log_df['train_loss'], label='Training Loss')\n",
        "plt.plot(log_df['val_loss'], label='Validation Loss')\n",
        "plt.xlabel('Epochs')\n",
        "plt.ylabel('Loss')\n",
        "plt.title('Training and Validation Loss')\n",
        "plt.legend()\n",
        "plt.grid(True)\n",
        "plt.show()\n",
        "\n",
        "# Plot training and validation accuracy\n",
        "plt.figure(figsize=(10, 6))\n",
        "plt.plot(log_df['train_acc'], label='Training Accuracy')\n",
        "plt.plot(log_df['val_acc'], label='Validation Accuracy')\n",
        "plt.xlabel('Epochs')\n",
        "plt.ylabel('Accuracy')\n",
        "plt.title('Training and Validation Accuracy')\n",
        "plt.legend()\n",
        "plt.grid(True)\n",
        "plt.show()\n",
        "\n",
        "# Plot remaining filters after pruning\n",
        "plt.figure(figsize=(8, 5))\n",
        "plt.plot(log_df['remaining_filters'])\n",
        "plt.xlabel('Iterations')\n",
        "plt.ylabel('Remaining Filters')\n",
        "plt.title('Remaining Filters after Pruning')\n",
        "plt.grid(True)\n",
        "plt.show()\n",
        "\n"
      ],
      "metadata": {
        "colab": {
          "base_uri": "https://localhost:8080/",
          "height": 1000
        },
        "id": "FiFyFB1_CZ5v",
        "outputId": "88bbefe0-e8be-4f80-abb2-1582d95ef707"
      },
      "execution_count": null,
      "outputs": [
        {
          "output_type": "display_data",
          "data": {
            "text/plain": [
              "<Figure size 1000x600 with 1 Axes>"
            ],
            "image/png": "[encoded data removed]"
          },
          "metadata": {}
        },
        {
          "output_type": "display_data",
          "data": {
            "text/plain": [
              "<Figure size 1000x600 with 1 Axes>"
            ],
            "image/png": "[encoded data removed]"
          },
          "metadata": {}
        },
        {
          "output_type": "display_data",
          "data": {
            "text/plain": [
              "<Figure size 800x500 with 1 Axes>"
            ],
            "image/png": "[encoded data removed]"
          },
          "metadata": {}
        }
      ]
    },
    {
      "cell_type": "code",
      "source": [],
      "metadata": {
        "id": "WOerV4xXEq3l"
      },
      "execution_count": null,
      "outputs": []
    }
  ],
  "metadata": {
    "colab": {
      "provenance": [],
      "gpuType": "T4"
    },
    "kernelspec": {
      "display_name": "Python 3",
      "name": "python3"
    },
    "language_info": {
      "name": "python"
    },
    "accelerator": "GPU"
  },
  "nbformat": 4,
  "nbformat_minor": 0
}